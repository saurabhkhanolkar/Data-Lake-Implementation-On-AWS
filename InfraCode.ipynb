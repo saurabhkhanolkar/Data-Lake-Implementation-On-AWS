{
 "cells": [
  {
   "cell_type": "code",
   "execution_count": 32,
   "metadata": {},
   "outputs": [],
   "source": [
    "import boto3\n",
    "import configparser\n",
    "import json"
   ]
  },
  {
   "cell_type": "code",
   "execution_count": 33,
   "metadata": {},
   "outputs": [],
   "source": [
    "\n",
    "def create_emr_cluster(emr_client, config):\n",
    "    cluster_id = emr_client.run_job_flow(\n",
    "        Name='spark-emr-cluster',\n",
    "        ReleaseLabel='emr-5.20.0',\n",
    "        LogUri='s3://aws-logs-318607908256-us-west-2/elasticmapreduce/',\n",
    "        Applications=[\n",
    "            {\n",
    "                'Name': 'Spark'\n",
    "            },\n",
    "        ],\n",
    "        Configurations=[\n",
    "            {\n",
    "                \"Classification\": \"spark-env\",\n",
    "                \"Configurations\": [\n",
    "                    {\n",
    "                        \"Classification\": \"export\",\n",
    "                        \"Properties\": {\n",
    "                            \"PYSPARK_PYTHON\": \"/usr/bin/python3\"\n",
    "                        }\n",
    "                    }\n",
    "                ]\n",
    "            }\n",
    "        ],\n",
    "        Instances={\n",
    "            'InstanceGroups': [\n",
    "                {\n",
    "                    'Name': \"Master nodes\",\n",
    "                    'Market': 'ON_DEMAND',\n",
    "                    'InstanceRole': 'MASTER',\n",
    "                    'InstanceType': 'm5.xlarge',\n",
    "                    'InstanceCount': 1,\n",
    "                },\n",
    "                {\n",
    "                    'Name': \"Slave nodes\",\n",
    "                    'Market': 'ON_DEMAND',\n",
    "                    'InstanceRole': 'CORE',\n",
    "                    'InstanceType': 'm5.xlarge',\n",
    "                    'InstanceCount': 4,\n",
    "                }\n",
    "            ]\n",
    "            ,\n",
    "            'Ec2KeyName': 'data_lake_key',\n",
    "            'KeepJobFlowAliveWhenNoSteps': True,\n",
    "            'TerminationProtected': False,\n",
    "            'Ec2SubnetId': 'subnet-27ba277f'\n",
    "        },\n",
    "        Steps=[\n",
    "            {\n",
    "                'Name': 'Setup Debugging',\n",
    "                'ActionOnFailure': 'TERMINATE_CLUSTER',\n",
    "                'HadoopJarStep': {\n",
    "                    'Jar': 'command-runner.jar',\n",
    "                    'Args': ['state-pusher-script']\n",
    "                }\n",
    "            },\n",
    "            {\n",
    "                'Name': 'Setup - copy files',\n",
    "                'ActionOnFailure': 'CANCEL_AND_WAIT',\n",
    "                'HadoopJarStep': {\n",
    "                    'Jar': 'command-runner.jar',\n",
    "                    'Args': ['aws', 's3', 'cp', 's3://' + config['S3']['CODE_BUCKET'], '/home/hadoop/',\n",
    "                             '--recursive']\n",
    "                }\n",
    "            },\n",
    "            {\n",
    "                'Name': 'Run Spark',\n",
    "                'ActionOnFailure': 'CANCEL_AND_WAIT',\n",
    "                'HadoopJarStep': {\n",
    "                    'Jar': 'command-runner.jar',\n",
    "                    'Args': ['spark-submit', '/home/hadoop/etl.py',\n",
    "                             config['DATALAKE']['INPUT_DATA'], config['DATALAKE']['OUTPUT_DATA']]\n",
    "                }\n",
    "            }\n",
    "        ],\n",
    "        VisibleToAllUsers=True,\n",
    "        JobFlowRole='EMR_EC2_DefaultRole',\n",
    "        ServiceRole='MyEmrRole'\n",
    "    )\n",
    "\n",
    "    print('cluster created with the step...', cluster_id['JobFlowId'])\n"
   ]
  },
  {
   "cell_type": "code",
   "execution_count": 34,
   "metadata": {},
   "outputs": [
    {
     "name": "stdout",
     "output_type": "stream",
     "text": [
      "cluster created with the step... j-364U10DOOLQFB\n"
     ]
    }
   ],
   "source": [
    "config = configparser.ConfigParser()\n",
    "config.read('dl.cfg')\n",
    "\n",
    "emr_client = boto3.client(\n",
    "        'emr',\n",
    "        region_name='us-west-2',\n",
    "        aws_access_key_id=config['AWS']['AWS_ACCESS_KEY_ID'],\n",
    "        aws_secret_access_key=config['AWS']['AWS_SECRET_ACCESS_KEY']\n",
    "    )\n",
    "\n",
    "create_emr_cluster(emr_client, config)"
   ]
  },
  {
   "cell_type": "code",
   "execution_count": null,
   "metadata": {},
   "outputs": [],
   "source": []
  }
 ],
 "metadata": {
  "kernelspec": {
   "display_name": "Python 3",
   "language": "python",
   "name": "python3"
  },
  "language_info": {
   "codemirror_mode": {
    "name": "ipython",
    "version": 3
   },
   "file_extension": ".py",
   "mimetype": "text/x-python",
   "name": "python",
   "nbconvert_exporter": "python",
   "pygments_lexer": "ipython3",
   "version": "3.8.3"
  }
 },
 "nbformat": 4,
 "nbformat_minor": 4
}
